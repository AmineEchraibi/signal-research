{
 "cells": [
  {
   "cell_type": "code",
   "execution_count": 1,
   "metadata": {},
   "outputs": [],
   "source": [
    "%load_ext autoreload\n",
    "%autoreload 2"
   ]
  },
  {
   "cell_type": "code",
   "execution_count": 3,
   "metadata": {},
   "outputs": [
    {
     "data": {
      "text/plain": [
       "True"
      ]
     },
     "execution_count": 3,
     "metadata": {},
     "output_type": "execute_result"
    }
   ],
   "source": [
    "import pandas as pd\n",
    "from trading_middlewares.io.dataframe import ParquetDataFrame\n",
    "import os\n",
    "from dotenv import load_dotenv\n",
    "\n",
    "load_dotenv('../env/s3.env')\n"
   ]
  },
  {
   "cell_type": "code",
   "execution_count": 5,
   "metadata": {},
   "outputs": [
    {
     "name": "stderr",
     "output_type": "stream",
     "text": [
      "\u001b[32m2024-10-10 14:04:31.400\u001b[0m | \u001b[1mINFO    \u001b[0m | \u001b[36mtrading_middlewares.io.dataframe\u001b[0m:\u001b[36m__init__\u001b[0m:\u001b[36m51\u001b[0m - \u001b[1mConnection successful! Available buckets:\u001b[0m\n"
     ]
    },
    {
     "data": {
      "text/html": [
       "<div>\n",
       "<style scoped>\n",
       "    .dataframe tbody tr th:only-of-type {\n",
       "        vertical-align: middle;\n",
       "    }\n",
       "\n",
       "    .dataframe tbody tr th {\n",
       "        vertical-align: top;\n",
       "    }\n",
       "\n",
       "    .dataframe thead th {\n",
       "        text-align: right;\n",
       "    }\n",
       "</style>\n",
       "<table border=\"1\" class=\"dataframe\">\n",
       "  <thead>\n",
       "    <tr style=\"text-align: right;\">\n",
       "      <th></th>\n",
       "      <th>date</th>\n",
       "      <th>open</th>\n",
       "      <th>high</th>\n",
       "      <th>low</th>\n",
       "      <th>close</th>\n",
       "      <th>volume</th>\n",
       "      <th>week_id</th>\n",
       "      <th>symbol</th>\n",
       "    </tr>\n",
       "  </thead>\n",
       "  <tbody>\n",
       "    <tr>\n",
       "      <th>0</th>\n",
       "      <td>2024-09-30</td>\n",
       "      <td>237.350006</td>\n",
       "      <td>237.800003</td>\n",
       "      <td>228.949997</td>\n",
       "      <td>228.949997</td>\n",
       "      <td>13658985</td>\n",
       "      <td>202440</td>\n",
       "      <td>00631L.TW</td>\n",
       "    </tr>\n",
       "    <tr>\n",
       "      <th>1</th>\n",
       "      <td>2024-10-01</td>\n",
       "      <td>230.250000</td>\n",
       "      <td>231.350006</td>\n",
       "      <td>228.850006</td>\n",
       "      <td>230.000000</td>\n",
       "      <td>4620362</td>\n",
       "      <td>202440</td>\n",
       "      <td>00631L.TW</td>\n",
       "    </tr>\n",
       "    <tr>\n",
       "      <th>2</th>\n",
       "      <td>2024-10-02</td>\n",
       "      <td>230.000000</td>\n",
       "      <td>230.000000</td>\n",
       "      <td>230.000000</td>\n",
       "      <td>230.000000</td>\n",
       "      <td>0</td>\n",
       "      <td>202440</td>\n",
       "      <td>00631L.TW</td>\n",
       "    </tr>\n",
       "    <tr>\n",
       "      <th>3</th>\n",
       "      <td>2024-10-03</td>\n",
       "      <td>230.000000</td>\n",
       "      <td>230.000000</td>\n",
       "      <td>230.000000</td>\n",
       "      <td>230.000000</td>\n",
       "      <td>0</td>\n",
       "      <td>202440</td>\n",
       "      <td>00631L.TW</td>\n",
       "    </tr>\n",
       "    <tr>\n",
       "      <th>4</th>\n",
       "      <td>2024-10-04</td>\n",
       "      <td>229.800003</td>\n",
       "      <td>232.399994</td>\n",
       "      <td>227.250000</td>\n",
       "      <td>228.100006</td>\n",
       "      <td>4449640</td>\n",
       "      <td>202440</td>\n",
       "      <td>00631L.TW</td>\n",
       "    </tr>\n",
       "  </tbody>\n",
       "</table>\n",
       "</div>"
      ],
      "text/plain": [
       "        date        open        high         low       close    volume  \\\n",
       "0 2024-09-30  237.350006  237.800003  228.949997  228.949997  13658985   \n",
       "1 2024-10-01  230.250000  231.350006  228.850006  230.000000   4620362   \n",
       "2 2024-10-02  230.000000  230.000000  230.000000  230.000000         0   \n",
       "3 2024-10-03  230.000000  230.000000  230.000000  230.000000         0   \n",
       "4 2024-10-04  229.800003  232.399994  227.250000  228.100006   4449640   \n",
       "\n",
       "  week_id     symbol  \n",
       "0  202440  00631L.TW  \n",
       "1  202440  00631L.TW  \n",
       "2  202440  00631L.TW  \n",
       "3  202440  00631L.TW  \n",
       "4  202440  00631L.TW  "
      ]
     },
     "execution_count": 5,
     "metadata": {},
     "output_type": "execute_result"
    }
   ],
   "source": [
    "dataframe = ParquetDataFrame(file_path=\"historical-etf-data/\",\n",
    "                              s3_access_key=\"jkWzIHSmTtP08g5k3Rmh\",\n",
    "                              s3_secret_key=\"ZEMqktzGD5uoyKLYgf2jQ2dCMTVLnXMfPxNZG00l\",\n",
    "                              endpoint=\"http://localhost:9000\")\n",
    "\n",
    "filter_dict = {'week_id': ['202440', '202441']}\n",
    "data = dataframe.read(filter_dict=filter_dict)\n",
    "data.head()"
   ]
  },
  {
   "cell_type": "code",
   "execution_count": 6,
   "metadata": {},
   "outputs": [
    {
     "data": {
      "text/plain": [
       "['00631L.TW', '00640L.TW', '00656R.TW', '00665L.TW', '00671R.TW', ..., 'ZROZ', 'ZTAX', 'ZTEN', 'ZTRE', 'ZTWO']\n",
       "Length: 2461\n",
       "Categories (2476, object): ['MDY', 'EWA', 'EWD', 'EWH', ..., 'JMID', 'MSTU', 'COPA', 'PATN']"
      ]
     },
     "execution_count": 6,
     "metadata": {},
     "output_type": "execute_result"
    }
   ],
   "source": [
    "data['symbol'].unique()"
   ]
  },
  {
   "cell_type": "code",
   "execution_count": null,
   "metadata": {},
   "outputs": [],
   "source": []
  }
 ],
 "metadata": {
  "kernelspec": {
   "display_name": ".venv",
   "language": "python",
   "name": "python3"
  },
  "language_info": {
   "codemirror_mode": {
    "name": "ipython",
    "version": 3
   },
   "file_extension": ".py",
   "mimetype": "text/x-python",
   "name": "python",
   "nbconvert_exporter": "python",
   "pygments_lexer": "ipython3",
   "version": "3.12.1"
  }
 },
 "nbformat": 4,
 "nbformat_minor": 2
}
